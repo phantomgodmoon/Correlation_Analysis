{
 "cells": [
  {
   "cell_type": "code",
   "execution_count": 1,
   "id": "3d2d253f",
   "metadata": {},
   "outputs": [
    {
     "ename": "SyntaxError",
     "evalue": "invalid syntax (612182625.py, line 1)",
     "output_type": "error",
     "traceback": [
      "\u001b[1;36m  Input \u001b[1;32mIn [1]\u001b[1;36m\u001b[0m\n\u001b[1;33m    git config --global user.name \"phantomgodmoon\"\u001b[0m\n\u001b[1;37m        ^\u001b[0m\n\u001b[1;31mSyntaxError\u001b[0m\u001b[1;31m:\u001b[0m invalid syntax\n"
     ]
    }
   ],
   "source": [
    "git config --global user.name \"phantomgodmoon\"\n",
    "git config --global user.email \"phantomgodmoon@protonmail.com\"\n"
   ]
  },
  {
   "cell_type": "code",
   "execution_count": 3,
   "id": "6822abba",
   "metadata": {},
   "outputs": [
    {
     "ename": "SyntaxError",
     "evalue": "invalid syntax (3790629062.py, line 1)",
     "output_type": "error",
     "traceback": [
      "\u001b[1;36m  Input \u001b[1;32mIn [3]\u001b[1;36m\u001b[0m\n\u001b[1;33m    git remote add origin https://github.com/phantomgodmoon/Correlation_Analysis.git\u001b[0m\n\u001b[1;37m        ^\u001b[0m\n\u001b[1;31mSyntaxError\u001b[0m\u001b[1;31m:\u001b[0m invalid syntax\n"
     ]
    }
   ],
   "source": [
    "git remote add origin https://github.com/phantomgodmoon/Correlation_Analysis.git"
   ]
  },
  {
   "cell_type": "code",
   "execution_count": null,
   "id": "7e346851",
   "metadata": {},
   "outputs": [],
   "source": [
    "import numpy as np\n",
    "import pandas as pd\n",
    "#used to grab the stock prices, with yahoo\n",
    "import pandas_datareader as web\n",
    "from datetime import datetime\n",
    "#to visualize the results\n",
    "import matplotlib.pyplot as plt\n",
    "import seaborn\n",
    " \n",
    "#select start date for correlation window as well as list of tickers\n",
    "start = datetime(2021, 1, 1)\n"
   ]
  },
  {
   "cell_type": "code",
   "execution_count": null,
   "id": "008de48a",
   "metadata": {},
   "outputs": [],
   "source": [
    "def Correlation_analysis(symbols_list):\n",
    "    #array to store prices\n",
    "    symbols=[]\n",
    "    #pull price using iex for each symbol in list defined above\n",
    "    for ticker in symbols_list: \n",
    "        r = web.DataReader(ticker, 'yahoo', start)\n",
    "        # add a symbol column\n",
    "        r['Symbol'] = ticker \n",
    "        symbols.append(r)\n",
    "    # concatenate into df\n",
    "    df = pd.concat(symbols)\n",
    "    df = df.reset_index()\n",
    "    df = df[['Date', 'Close', 'Symbol']]\n",
    "    df_pivot = df.pivot('Date','Symbol','Close').reset_index()\n",
    "    print(df_pivot.head(10))\n",
    "    corr_df = df_pivot.corr(method='pearson')\n",
    "    #reset symbol as index (rather than 0-X)\n",
    "    corr_df.head().reset_index()\n",
    "    print(corr_df.head(10))\n",
    "    #take the bottom triangle since it repeats itself\n",
    "    mask = np.zeros_like(corr_df)\n",
    "    mask[np.triu_indices_from(mask)] = True\n",
    "    #generate plot\n",
    "    seaborn.heatmap(corr_df, cmap='RdYlGn', vmax=1.0, vmin=-1.0 , mask = mask, linewidths=2.5)\n",
    "    plt.yticks(rotation=0) \n",
    "    plt.xticks(rotation=90)\n",
    "    plt.show()"
   ]
  },
  {
   "cell_type": "code",
   "execution_count": null,
   "id": "eef175a1",
   "metadata": {},
   "outputs": [],
   "source": [
    "Correlation_analysis(['BTC-USD', 'ETH-USD', 'XRP-USD', 'SOL-USD', 'ADA-USD', 'BNB-USD','DOT-USD','MATIC-USD','AVAX-USD'])"
   ]
  },
  {
   "cell_type": "code",
   "execution_count": null,
   "id": "9429b1d0",
   "metadata": {},
   "outputs": [],
   "source": [
    "symbols_list = ['BTC-USD', 'ETH-USD', 'XRP-USD', 'SOL-USD', 'ADA-USD', 'BNB-USD','DOT-USD','MATIC-USD','AVAX-USD']\n",
    "#array to store prices\n",
    "symbols=[]\n",
    "\n",
    "#pull price using iex for each symbol in list defined above\n",
    "for ticker in symbols_list: \n",
    "    r = web.DataReader(ticker, 'yahoo', start)\n",
    "    # add a symbol column\n",
    "    r['Symbol'] = ticker \n",
    "    symbols.append(r)\n",
    "\n",
    "# concatenate into df\n",
    "df = pd.concat(symbols)\n",
    "df = df.reset_index()\n",
    "df = df[['Date', 'Close', 'Symbol']]\n",
    "df_pivot = df.pivot('Date','Symbol','Close').reset_index()\n",
    "df_pivot.head(10)"
   ]
  },
  {
   "cell_type": "code",
   "execution_count": null,
   "id": "957a6e0a",
   "metadata": {},
   "outputs": [],
   "source": [
    "\n",
    "corr_df = df_pivot.corr(method='pearson')\n",
    "#reset symbol as index (rather than 0-X)\n",
    "corr_df.head().reset_index()\n",
    "corr_df.head(10)"
   ]
  },
  {
   "cell_type": "code",
   "execution_count": null,
   "id": "d15f784a",
   "metadata": {},
   "outputs": [],
   "source": [
    "#take the bottom triangle since it repeats itself\n",
    "mask = np.zeros_like(corr_df)\n",
    "mask[np.triu_indices_from(mask)] = True\n",
    "#generate plot\n",
    "seaborn.heatmap(corr_df, cmap='RdYlGn', vmax=1.0, vmin=-1.0 , mask = mask, linewidths=2.5)\n",
    "plt.yticks(rotation=0) \n",
    "plt.xticks(rotation=90)\n",
    "\n",
    "plt.show()"
   ]
  },
  {
   "cell_type": "code",
   "execution_count": null,
   "id": "df779923",
   "metadata": {},
   "outputs": [],
   "source": [
    "symbols_list = ['BTC-USD', 'ETH-USD', 'XRP-USD', 'SOL-USD']\n",
    "#array to store prices\n",
    "symbols=[]\n",
    "\n",
    "#pull price using iex for each symbol in list defined above\n",
    "for ticker in symbols_list: \n",
    "    r = web.DataReader(ticker, 'yahoo', start)\n",
    "    # add a symbol column\n",
    "    r['Symbol'] = ticker \n",
    "    symbols.append(r)\n",
    "\n",
    "# concatenate into df\n",
    "df = pd.concat(symbols)\n",
    "df = df.reset_index()\n",
    "df = df[['Date', 'Close', 'Symbol']]\n",
    "df_pivot = df.pivot('Date','Symbol','Close').reset_index()"
   ]
  },
  {
   "cell_type": "code",
   "execution_count": null,
   "id": "3f9a5f42",
   "metadata": {},
   "outputs": [],
   "source": [
    "corr_df = df_pivot.corr(method='pearson')\n",
    " #reset symbol as index (rather than 0-X)\n",
    "corr_df.head().reset_index()\n",
    "corr_df.head(10)"
   ]
  },
  {
   "cell_type": "code",
   "execution_count": null,
   "id": "29ae3b84",
   "metadata": {},
   "outputs": [],
   "source": [
    "#take the bottom triangle since it repeats itself\n",
    "mask = np.zeros_like(corr_df)\n",
    "mask[np.triu_indices_from(mask)] = True\n",
    "#generate plot\n",
    "seaborn.heatmap(corr_df, cmap='RdYlGn', vmax=1.0, vmin=-1.0 , mask = mask, linewidths=2.5)\n",
    "plt.yticks(rotation=0) \n",
    "plt.xticks(rotation=90)\n",
    "\n",
    "plt.show()"
   ]
  },
  {
   "cell_type": "code",
   "execution_count": null,
   "id": "32840d4a",
   "metadata": {},
   "outputs": [],
   "source": [
    " symbols_list = ['QCOM', 'SOXL', 'INTC', 'NVDA', 'AMD', 'ASML','GOLD','SIL=F','QQQ','SPY']\n",
    "    #array to store prices\n",
    "symbols=[]\n",
    "\n",
    "#pull price using iex for each symbol in list defined above\n",
    "for ticker in symbols_list: \n",
    "    r = web.DataReader(ticker, 'yahoo', start)\n",
    "    # add a symbol column\n",
    "    r['Symbol'] = ticker \n",
    "    symbols.append(r)\n",
    "\n",
    "# concatenate into df\n",
    "df = pd.concat(symbols)\n",
    "df = df.reset_index()\n",
    "df = df[['Date', 'Close', 'Symbol']]\n",
    "df.head()\n",
    "df_pivot = df.pivot('Date','Symbol','Close').reset_index()\n",
    "df_pivot.head()\n",
    "corr_df = df_pivot.corr(method='pearson')\n",
    " #reset symbol as index (rather than 0-X)\n",
    "corr_df.head().reset_index()\n",
    "corr_df.head(10)"
   ]
  },
  {
   "cell_type": "code",
   "execution_count": null,
   "id": "f3f956c4",
   "metadata": {},
   "outputs": [],
   "source": [
    "Correlation_analysis( ['CL=F', 'NG=F', 'QQQ', 'SPY', 'GOLD', 'SIL=F'])"
   ]
  },
  {
   "cell_type": "code",
   "execution_count": null,
   "id": "37da14ca",
   "metadata": {},
   "outputs": [],
   "source": [
    "start = datetime(2020, 1, 1)"
   ]
  },
  {
   "cell_type": "code",
   "execution_count": null,
   "id": "250a9cf9",
   "metadata": {},
   "outputs": [],
   "source": [
    "Correlation_analysis(['BTC-USD', 'ETH-USD', 'XRP-USD', 'SOL-USD'])"
   ]
  },
  {
   "cell_type": "code",
   "execution_count": 2,
   "id": "d1cd9cdc",
   "metadata": {},
   "outputs": [
    {
     "ename": "NameError",
     "evalue": "name 'datetime' is not defined",
     "output_type": "error",
     "traceback": [
      "\u001b[1;31m---------------------------------------------------------------------------\u001b[0m",
      "\u001b[1;31mNameError\u001b[0m                                 Traceback (most recent call last)",
      "Input \u001b[1;32mIn [2]\u001b[0m, in \u001b[0;36m<cell line: 1>\u001b[1;34m()\u001b[0m\n\u001b[1;32m----> 1\u001b[0m start \u001b[38;5;241m=\u001b[39m \u001b[43mdatetime\u001b[49m(\u001b[38;5;241m2020\u001b[39m, \u001b[38;5;241m6\u001b[39m, \u001b[38;5;241m1\u001b[39m)\n",
      "\u001b[1;31mNameError\u001b[0m: name 'datetime' is not defined"
     ]
    }
   ],
   "source": [
    "start = datetime(2020, 6, 1)"
   ]
  },
  {
   "cell_type": "code",
   "execution_count": null,
   "id": "7da211a2",
   "metadata": {},
   "outputs": [],
   "source": [
    "Correlation_analysis(['BTC-USD', 'ETH-USD', 'XRP-USD', 'SOL-USD'])"
   ]
  },
  {
   "cell_type": "code",
   "execution_count": null,
   "id": "25c9089f",
   "metadata": {},
   "outputs": [],
   "source": [
    "start = datetime(2021, 1, 1)"
   ]
  },
  {
   "cell_type": "code",
   "execution_count": null,
   "id": "23ee213e",
   "metadata": {},
   "outputs": [],
   "source": [
    "Correlation_analysis(['BTC-USD', 'ETH-USD', 'XRP-USD', 'SOL-USD'])"
   ]
  },
  {
   "cell_type": "code",
   "execution_count": null,
   "id": "64d39319",
   "metadata": {},
   "outputs": [],
   "source": [
    "start = datetime(2021, 6, 1)"
   ]
  },
  {
   "cell_type": "code",
   "execution_count": null,
   "id": "53e95f61",
   "metadata": {},
   "outputs": [],
   "source": [
    "Correlation_analysis(['BTC-USD', 'ETH-USD', 'XRP-USD', 'SOL-USD'])"
   ]
  },
  {
   "cell_type": "code",
   "execution_count": null,
   "id": "749a4705",
   "metadata": {},
   "outputs": [],
   "source": [
    "start = datetime(2022, 1, 1)"
   ]
  },
  {
   "cell_type": "code",
   "execution_count": null,
   "id": "5f3c573a",
   "metadata": {},
   "outputs": [],
   "source": [
    "Correlation_analysis(['BTC-USD', 'ETH-USD', 'XRP-USD', 'SOL-USD'])"
   ]
  },
  {
   "cell_type": "code",
   "execution_count": null,
   "id": "7dd3b095",
   "metadata": {},
   "outputs": [],
   "source": [
    "start = datetime(2022, 6, 1)"
   ]
  },
  {
   "cell_type": "code",
   "execution_count": null,
   "id": "a0f0b595",
   "metadata": {},
   "outputs": [],
   "source": [
    "Correlation_analysis(['BTC-USD', 'ETH-USD', 'XRP-USD', 'SOL-USD'])"
   ]
  },
  {
   "cell_type": "code",
   "execution_count": null,
   "id": "7baab162",
   "metadata": {},
   "outputs": [],
   "source": []
  },
  {
   "cell_type": "code",
   "execution_count": null,
   "id": "74121613",
   "metadata": {},
   "outputs": [],
   "source": []
  }
 ],
 "metadata": {
  "kernelspec": {
   "display_name": "Python 3 (ipykernel)",
   "language": "python",
   "name": "python3"
  },
  "language_info": {
   "codemirror_mode": {
    "name": "ipython",
    "version": 3
   },
   "file_extension": ".py",
   "mimetype": "text/x-python",
   "name": "python",
   "nbconvert_exporter": "python",
   "pygments_lexer": "ipython3",
   "version": "3.9.12"
  }
 },
 "nbformat": 4,
 "nbformat_minor": 5
}
